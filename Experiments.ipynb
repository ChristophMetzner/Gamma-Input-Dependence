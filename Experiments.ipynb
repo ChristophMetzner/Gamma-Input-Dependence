{
 "cells": [
  {
   "cell_type": "markdown",
   "metadata": {},
   "source": [
    "### Stimulus strength vs effect in experiments"
   ]
  },
  {
   "cell_type": "code",
   "execution_count": 1,
   "metadata": {},
   "outputs": [],
   "source": [
    "%matplotlib inline\n",
    "\n",
    "import numpy as np\n",
    "import matplotlib.pyplot as plt"
   ]
  },
  {
   "cell_type": "markdown",
   "metadata": {},
   "source": [
    "### Data"
   ]
  },
  {
   "cell_type": "code",
   "execution_count": 2,
   "metadata": {},
   "outputs": [],
   "source": [
    "studies          = ['Hamm2012','Hong2004','Hirano2015','Rass2012','Spencer2008','Krishnan2009','Brenner2003',\n",
    "                    'Tsuchimoto2011','Kwon1999','Koemek2012','Hamm2015','Tada2016','Spencer2009','Wilson2008',\n",
    "                    'Vierling-Claassen2008']\n",
    "strengths        = [76., 72., 70., 80., 55., 80., 86., 80., np.nan, np.nan, 76., 80., 70., 80., 65.]\n",
    "modalities       = ['EEG','EEG','EEG','EEG','EEG','EEG','EEG','MEG','EEG','EEG','EEG','EEG','EEG','MEG','MEG']\n",
    "patientgroup     = ['Chronic','Chronic','Chronic','Chronic','FEP','Chronic','Chronic','Chronic','Chronic','Chronic',\n",
    "                'FEP','Chronic','Early','Chronic']\n",
    "medications      = [355., 318.8, 426.39, np.nan, 338., np.nan, np.nan, 541., 440., np.nan, 207., \n",
    "                    489.7, 450.,  np.nan, np.nan] #CPZ equivalent (not used because very inaccurate, very mixed in studies)\n",
    "illness_duration = [18.2, np.nan, 21.1, np.nan, 0., np.nan, np.nan, 13.5, 21.1, np.nan, np.nan, np.nan, np.nan,\n",
    "                    np.nan, 26.2]\n",
    "effects_4040     = [0.53, 0.2, -0.09,-0.35,-0.55,-0.66,-0.67,-0.77,-0.81,-0.82,-0.89,-0.9,-0.92,-1.23,-1.5]\n",
    "effects_2040     = [0.,np.nan, np.nan, np.nan, 1., 0., np.nan, np.nan, 1., 0., np.nan, 0., np.nan, np.nan, 1.] \n",
    "# Rass2012; Kwon1999 (not statsitically tested, but visible in the figure)\n",
    "# Koemek2012; Tada2016 (not statistically tested, but visually absent in the figure)"
   ]
  },
  {
   "cell_type": "markdown",
   "metadata": {},
   "source": [
    "### Strengths vs 4040 Effect"
   ]
  },
  {
   "cell_type": "code",
   "execution_count": null,
   "metadata": {},
   "outputs": [],
   "source": []
  }
 ],
 "metadata": {
  "kernelspec": {
   "display_name": "Python 2",
   "language": "python",
   "name": "python2"
  },
  "language_info": {
   "codemirror_mode": {
    "name": "ipython",
    "version": 2
   },
   "file_extension": ".py",
   "mimetype": "text/x-python",
   "name": "python",
   "nbconvert_exporter": "python",
   "pygments_lexer": "ipython2",
   "version": "2.7.12"
  }
 },
 "nbformat": 4,
 "nbformat_minor": 2
}
